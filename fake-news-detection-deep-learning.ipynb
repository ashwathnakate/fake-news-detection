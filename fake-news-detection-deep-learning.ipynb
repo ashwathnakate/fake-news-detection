{
 "cells": [
  {
   "cell_type": "markdown",
   "id": "17ce387b",
   "metadata": {},
   "source": [
    "\n",
    "# Fake News Detection using Deep Learning\n",
    "\n",
    "This notebook demonstrates a deep learning approach to detecting fake news using a Bidirectional LSTM (Long Short-Term Memory) model in TensorFlow/Keras. The goal is to classify news articles as **Fake** or **Real** based on their content.\n",
    "\n",
    "## Objective\n",
    "- Build a model capable of distinguishing between fake and real news articles with high accuracy.\n",
    "- Use NLP preprocessing techniques to clean and prepare the text data.\n",
    "- Train a Bidirectional LSTM model for text classification.\n",
    "\n",
    "---\n"
   ]
  },
  {
   "cell_type": "markdown",
   "id": "bbb17277",
   "metadata": {},
   "source": [
    "\n",
    "## Step 1: Load Data\n",
    "We have two CSV files:\n",
    "- `True.csv` – Contains real news articles.\n",
    "- `Fake.csv` – Contains fake news articles.\n",
    "\n",
    "Let's load the data using pandas and explore its structure.\n"
   ]
  },
  {
   "cell_type": "markdown",
   "id": "a5742c23",
   "metadata": {},
   "source": [
    "\n",
    "## Step 2: Data Preprocessing\n",
    "To train an LSTM model, the text data needs to be preprocessed:\n",
    "\n",
    "1. **Lowercasing** – Converts all text to lowercase to ensure uniformity.\n",
    "2. **Removing Punctuation** – Strips out punctuation marks.\n",
    "3. **Removing Stopwords** – Eliminates common words (like 'the', 'is') that do not carry meaning.\n",
    "4. **Tokenization** – Converts sentences into sequences of integers using a tokenizer.\n",
    "5. **Padding** – Ensures all sequences have the same length by padding shorter sequences.\n",
    "\n",
    "---\n"
   ]
  },
  {
   "cell_type": "markdown",
   "id": "87965c2a",
   "metadata": {},
   "source": [
    "\n",
    "## Step 3: Model Architecture\n",
    "The model is a Bidirectional LSTM network:\n",
    "- **Embedding Layer** – Converts token indices to dense vectors of fixed size.\n",
    "- **Bidirectional LSTM Layer** – Captures long-term dependencies from both directions of the sequence.\n",
    "- **Global Average Pooling** – Reduces dimensionality by averaging the outputs.\n",
    "- **Dense Layer** – Fully connected layer with ReLU activation.\n",
    "- **Output Layer** – Single neuron with sigmoid activation for binary classification.\n",
    "\n",
    "---\n"
   ]
  },
  {
   "cell_type": "markdown",
   "id": "42a3331c",
   "metadata": {},
   "source": [
    "\n",
    "## Step 4: Model Compilation and Training\n",
    "- **Loss Function:** Binary Crossentropy (suitable for binary classification)\n",
    "- **Optimizer:** Adam (adaptive learning rate optimizer)\n",
    "- **Metric:** Accuracy\n",
    "\n",
    "The model is trained using the training dataset for a specified number of epochs.\n",
    "\n",
    "---\n"
   ]
  },
  {
   "cell_type": "markdown",
   "id": "39c1aaf6",
   "metadata": {},
   "source": [
    "\n",
    "## Step 5: Model Evaluation\n",
    "After training, the model is evaluated using the test set:\n",
    "- **Accuracy** – Percentage of correct predictions.\n",
    "- **Loss** – Binary crossentropy loss value.\n",
    "\n",
    "---\n"
   ]
  },
  {
   "cell_type": "markdown",
   "id": "ff452d3a",
   "metadata": {},
   "source": [
    "\n",
    "## Step 6: Performance Metrics\n",
    "### Confusion Matrix\n",
    "- **True Positives (TP):** Correctly predicted real news articles.\n",
    "- **True Negatives (TN):** Correctly predicted fake news articles.\n",
    "- **False Positives (FP):** Incorrectly predicted fake news articles as real.\n",
    "- **False Negatives (FN):** Incorrectly predicted real news articles as fake.\n",
    "\n",
    "### Classification Report\n",
    "- **Precision** – Percentage of true positive predictions out of total positive predictions.\n",
    "- **Recall** – Percentage of true positive predictions out of actual positives.\n",
    "- **F1-Score** – Harmonic mean of precision and recall.\n",
    "\n",
    "---\n"
   ]
  },
  {
   "cell_type": "code",
   "execution_count": 1,
   "metadata": {
    "_cell_guid": "b1076dfc-b9ad-4769-8c92-a6c4dae69d19",
    "_uuid": "8f2839f25d086af736a60e9eeb907d3b93b6e0e5",
    "execution": {
     "iopub.execute_input": "2025-03-28T04:41:32.774269Z",
     "iopub.status.busy": "2025-03-28T04:41:32.773938Z",
     "iopub.status.idle": "2025-03-28T04:41:45.363788Z",
     "shell.execute_reply": "2025-03-28T04:41:45.363114Z",
     "shell.execute_reply.started": "2025-03-28T04:41:32.774244Z"
    }
   },
   "outputs": [],
   "source": [
    "# This Python 3 environment comes with many helpful analytics libraries installed\n",
    "# It is defined by the kaggle/python Docker image: https://github.com/kaggle/docker-python\n",
    "# For example, here's several helpful packages to load\n",
    "\n",
    "import numpy as np # linear algebra\n",
    "import pandas as pd # data processing, CSV file I/O (e.g. pd.read_csv)\n",
    "import tensorflow as tf\n",
    "from tensorflow.keras.layers import Embedding, LSTM, Dense, Bidirectional, GlobalAveragePooling1D\n",
    "from tensorflow.keras.preprocessing.text import Tokenizer\n",
    "from tensorflow.keras.preprocessing.sequence import pad_sequences\n",
    "from sklearn.model_selection import train_test_split\n",
    "from sklearn.preprocessing import LabelEncoder\n",
    "import matplotlib.pyplot as plt\n",
    "import re\n",
    "import string\n"
   ]
  },
  {
   "cell_type": "code",
   "execution_count": 3,
   "metadata": {
    "execution": {
     "iopub.execute_input": "2025-03-28T04:43:33.933928Z",
     "iopub.status.busy": "2025-03-28T04:43:33.933615Z",
     "iopub.status.idle": "2025-03-28T04:43:33.937504Z",
     "shell.execute_reply": "2025-03-28T04:43:33.936551Z",
     "shell.execute_reply.started": "2025-03-28T04:43:33.933906Z"
    }
   },
   "outputs": [],
   "source": [
    "path_fake = \"/kaggle/input/fake-news-dataset/Fake.csv\"\n",
    "real_path = \"/kaggle/input/fake-news-dataset/True.csv\""
   ]
  },
  {
   "cell_type": "code",
   "execution_count": 5,
   "metadata": {
    "execution": {
     "iopub.execute_input": "2025-03-28T04:44:09.762483Z",
     "iopub.status.busy": "2025-03-28T04:44:09.762083Z",
     "iopub.status.idle": "2025-03-28T04:44:11.005869Z",
     "shell.execute_reply": "2025-03-28T04:44:11.004926Z",
     "shell.execute_reply.started": "2025-03-28T04:44:09.762442Z"
    }
   },
   "outputs": [],
   "source": [
    "fake_df = pd.read_csv(path_fake)\n",
    "true_df = pd.read_csv(real_path)"
   ]
  },
  {
   "cell_type": "code",
   "execution_count": 6,
   "metadata": {
    "execution": {
     "iopub.execute_input": "2025-03-28T04:44:12.114447Z",
     "iopub.status.busy": "2025-03-28T04:44:12.114108Z",
     "iopub.status.idle": "2025-03-28T04:44:12.122230Z",
     "shell.execute_reply": "2025-03-28T04:44:12.121523Z",
     "shell.execute_reply.started": "2025-03-28T04:44:12.114423Z"
    }
   },
   "outputs": [],
   "source": [
    "true_df['label'] = 1\n",
    "fake_df['label'] = 0"
   ]
  },
  {
   "cell_type": "code",
   "execution_count": 7,
   "metadata": {
    "execution": {
     "iopub.execute_input": "2025-03-28T04:44:49.409445Z",
     "iopub.status.busy": "2025-03-28T04:44:49.409132Z",
     "iopub.status.idle": "2025-03-28T04:44:49.425444Z",
     "shell.execute_reply": "2025-03-28T04:44:49.424710Z",
     "shell.execute_reply.started": "2025-03-28T04:44:49.409423Z"
    }
   },
   "outputs": [],
   "source": [
    "df = pd.concat([true_df, fake_df], ignore_index = True)\n",
    "df = df[['text', 'label']]"
   ]
  },
  {
   "cell_type": "code",
   "execution_count": 8,
   "metadata": {
    "execution": {
     "iopub.execute_input": "2025-03-28T04:44:54.147426Z",
     "iopub.status.busy": "2025-03-28T04:44:54.147076Z",
     "iopub.status.idle": "2025-03-28T04:44:54.165169Z",
     "shell.execute_reply": "2025-03-28T04:44:54.164226Z",
     "shell.execute_reply.started": "2025-03-28T04:44:54.147399Z"
    }
   },
   "outputs": [
    {
     "data": {
      "text/html": [
       "<div>\n",
       "<style scoped>\n",
       "    .dataframe tbody tr th:only-of-type {\n",
       "        vertical-align: middle;\n",
       "    }\n",
       "\n",
       "    .dataframe tbody tr th {\n",
       "        vertical-align: top;\n",
       "    }\n",
       "\n",
       "    .dataframe thead th {\n",
       "        text-align: right;\n",
       "    }\n",
       "</style>\n",
       "<table border=\"1\" class=\"dataframe\">\n",
       "  <thead>\n",
       "    <tr style=\"text-align: right;\">\n",
       "      <th></th>\n",
       "      <th>text</th>\n",
       "      <th>label</th>\n",
       "    </tr>\n",
       "  </thead>\n",
       "  <tbody>\n",
       "    <tr>\n",
       "      <th>0</th>\n",
       "      <td>WASHINGTON (Reuters) - The head of a conservat...</td>\n",
       "      <td>1</td>\n",
       "    </tr>\n",
       "    <tr>\n",
       "      <th>1</th>\n",
       "      <td>WASHINGTON (Reuters) - Transgender people will...</td>\n",
       "      <td>1</td>\n",
       "    </tr>\n",
       "    <tr>\n",
       "      <th>2</th>\n",
       "      <td>WASHINGTON (Reuters) - The special counsel inv...</td>\n",
       "      <td>1</td>\n",
       "    </tr>\n",
       "    <tr>\n",
       "      <th>3</th>\n",
       "      <td>WASHINGTON (Reuters) - Trump campaign adviser ...</td>\n",
       "      <td>1</td>\n",
       "    </tr>\n",
       "    <tr>\n",
       "      <th>4</th>\n",
       "      <td>SEATTLE/WASHINGTON (Reuters) - President Donal...</td>\n",
       "      <td>1</td>\n",
       "    </tr>\n",
       "  </tbody>\n",
       "</table>\n",
       "</div>"
      ],
      "text/plain": [
       "                                                text  label\n",
       "0  WASHINGTON (Reuters) - The head of a conservat...      1\n",
       "1  WASHINGTON (Reuters) - Transgender people will...      1\n",
       "2  WASHINGTON (Reuters) - The special counsel inv...      1\n",
       "3  WASHINGTON (Reuters) - Trump campaign adviser ...      1\n",
       "4  SEATTLE/WASHINGTON (Reuters) - President Donal...      1"
      ]
     },
     "execution_count": 8,
     "metadata": {},
     "output_type": "execute_result"
    }
   ],
   "source": [
    "df.head()"
   ]
  },
  {
   "cell_type": "code",
   "execution_count": 9,
   "metadata": {
    "execution": {
     "iopub.execute_input": "2025-03-28T04:46:57.316171Z",
     "iopub.status.busy": "2025-03-28T04:46:57.315856Z",
     "iopub.status.idle": "2025-03-28T04:47:00.203355Z",
     "shell.execute_reply": "2025-03-28T04:47:00.202685Z",
     "shell.execute_reply.started": "2025-03-28T04:46:57.316148Z"
    }
   },
   "outputs": [],
   "source": [
    "def clean_text(text):\n",
    "    text = text.lower()\n",
    "    text = re.sub(r'\\[.*?\\]', '', text)  # Remove text in square brackets\n",
    "    text = re.sub(r'https?://\\S+|www\\.\\S+', '', text)  # Remove links\n",
    "    text = re.sub(r'<.*?>+', '', text)  # Remove HTML tags\n",
    "    text = re.sub(r'[%s]' % re.escape(string.punctuation), '', text)  # Remove punctuation\n",
    "    text = re.sub(r'\\n', '', text)  # Remove newlines\n",
    "    return text\n",
    "\n",
    "df['text'] = df['text'].apply(clean_text)"
   ]
  },
  {
   "cell_type": "code",
   "execution_count": 10,
   "metadata": {
    "execution": {
     "iopub.execute_input": "2025-03-28T04:47:08.147462Z",
     "iopub.status.busy": "2025-03-28T04:47:08.147084Z",
     "iopub.status.idle": "2025-03-28T04:47:08.155383Z",
     "shell.execute_reply": "2025-03-28T04:47:08.154582Z",
     "shell.execute_reply.started": "2025-03-28T04:47:08.147430Z"
    }
   },
   "outputs": [
    {
     "data": {
      "text/html": [
       "<div>\n",
       "<style scoped>\n",
       "    .dataframe tbody tr th:only-of-type {\n",
       "        vertical-align: middle;\n",
       "    }\n",
       "\n",
       "    .dataframe tbody tr th {\n",
       "        vertical-align: top;\n",
       "    }\n",
       "\n",
       "    .dataframe thead th {\n",
       "        text-align: right;\n",
       "    }\n",
       "</style>\n",
       "<table border=\"1\" class=\"dataframe\">\n",
       "  <thead>\n",
       "    <tr style=\"text-align: right;\">\n",
       "      <th></th>\n",
       "      <th>text</th>\n",
       "      <th>label</th>\n",
       "    </tr>\n",
       "  </thead>\n",
       "  <tbody>\n",
       "    <tr>\n",
       "      <th>0</th>\n",
       "      <td>washington reuters  the head of a conservative...</td>\n",
       "      <td>1</td>\n",
       "    </tr>\n",
       "    <tr>\n",
       "      <th>1</th>\n",
       "      <td>washington reuters  transgender people will be...</td>\n",
       "      <td>1</td>\n",
       "    </tr>\n",
       "    <tr>\n",
       "      <th>2</th>\n",
       "      <td>washington reuters  the special counsel invest...</td>\n",
       "      <td>1</td>\n",
       "    </tr>\n",
       "    <tr>\n",
       "      <th>3</th>\n",
       "      <td>washington reuters  trump campaign adviser geo...</td>\n",
       "      <td>1</td>\n",
       "    </tr>\n",
       "    <tr>\n",
       "      <th>4</th>\n",
       "      <td>seattlewashington reuters  president donald tr...</td>\n",
       "      <td>1</td>\n",
       "    </tr>\n",
       "  </tbody>\n",
       "</table>\n",
       "</div>"
      ],
      "text/plain": [
       "                                                text  label\n",
       "0  washington reuters  the head of a conservative...      1\n",
       "1  washington reuters  transgender people will be...      1\n",
       "2  washington reuters  the special counsel invest...      1\n",
       "3  washington reuters  trump campaign adviser geo...      1\n",
       "4  seattlewashington reuters  president donald tr...      1"
      ]
     },
     "execution_count": 10,
     "metadata": {},
     "output_type": "execute_result"
    }
   ],
   "source": [
    "df.head()"
   ]
  },
  {
   "cell_type": "code",
   "execution_count": 11,
   "metadata": {
    "execution": {
     "iopub.execute_input": "2025-03-28T04:48:54.073609Z",
     "iopub.status.busy": "2025-03-28T04:48:54.073280Z",
     "iopub.status.idle": "2025-03-28T04:49:15.870821Z",
     "shell.execute_reply": "2025-03-28T04:49:15.869792Z",
     "shell.execute_reply.started": "2025-03-28T04:48:54.073586Z"
    }
   },
   "outputs": [],
   "source": [
    "tokenizer = Tokenizer(num_words=5000)\n",
    "tokenizer.fit_on_texts(df['text'])\n",
    "sequences = tokenizer.texts_to_sequences(df['text'])\n",
    "X = pad_sequences(sequences, maxlen=500)\n",
    "y = df['label'].values"
   ]
  },
  {
   "cell_type": "code",
   "execution_count": 12,
   "metadata": {
    "execution": {
     "iopub.execute_input": "2025-03-28T04:49:40.324969Z",
     "iopub.status.busy": "2025-03-28T04:49:40.324674Z",
     "iopub.status.idle": "2025-03-28T04:49:40.364509Z",
     "shell.execute_reply": "2025-03-28T04:49:40.363794Z",
     "shell.execute_reply.started": "2025-03-28T04:49:40.324947Z"
    }
   },
   "outputs": [],
   "source": [
    "X_train, X_test, y_train, y_test = train_test_split(X,y, test_size=0.2, random_state=42)"
   ]
  },
  {
   "cell_type": "code",
   "execution_count": 14,
   "metadata": {
    "execution": {
     "iopub.execute_input": "2025-03-28T04:52:32.233911Z",
     "iopub.status.busy": "2025-03-28T04:52:32.233609Z",
     "iopub.status.idle": "2025-03-28T04:52:32.267504Z",
     "shell.execute_reply": "2025-03-28T04:52:32.266870Z",
     "shell.execute_reply.started": "2025-03-28T04:52:32.233889Z"
    }
   },
   "outputs": [
    {
     "data": {
      "text/html": [
       "<pre style=\"white-space:pre;overflow-x:auto;line-height:normal;font-family:Menlo,'DejaVu Sans Mono',consolas,'Courier New',monospace\"><span style=\"font-weight: bold\">Model: \"sequential_1\"</span>\n",
       "</pre>\n"
      ],
      "text/plain": [
       "\u001b[1mModel: \"sequential_1\"\u001b[0m\n"
      ]
     },
     "metadata": {},
     "output_type": "display_data"
    },
    {
     "data": {
      "text/html": [
       "<pre style=\"white-space:pre;overflow-x:auto;line-height:normal;font-family:Menlo,'DejaVu Sans Mono',consolas,'Courier New',monospace\">┏━━━━━━━━━━━━━━━━━━━━━━━━━━━━━━━━━━━━━━┳━━━━━━━━━━━━━━━━━━━━━━━━━━━━━┳━━━━━━━━━━━━━━━━━┓\n",
       "┃<span style=\"font-weight: bold\"> Layer (type)                         </span>┃<span style=\"font-weight: bold\"> Output Shape                </span>┃<span style=\"font-weight: bold\">         Param # </span>┃\n",
       "┡━━━━━━━━━━━━━━━━━━━━━━━━━━━━━━━━━━━━━━╇━━━━━━━━━━━━━━━━━━━━━━━━━━━━━╇━━━━━━━━━━━━━━━━━┩\n",
       "│ embedding_1 (<span style=\"color: #0087ff; text-decoration-color: #0087ff\">Embedding</span>)              │ ?                           │     <span style=\"color: #00af00; text-decoration-color: #00af00\">0</span> (unbuilt) │\n",
       "├──────────────────────────────────────┼─────────────────────────────┼─────────────────┤\n",
       "│ bidirectional_1 (<span style=\"color: #0087ff; text-decoration-color: #0087ff\">Bidirectional</span>)      │ ?                           │     <span style=\"color: #00af00; text-decoration-color: #00af00\">0</span> (unbuilt) │\n",
       "├──────────────────────────────────────┼─────────────────────────────┼─────────────────┤\n",
       "│ global_average_pooling1d_1           │ ?                           │     <span style=\"color: #00af00; text-decoration-color: #00af00\">0</span> (unbuilt) │\n",
       "│ (<span style=\"color: #0087ff; text-decoration-color: #0087ff\">GlobalAveragePooling1D</span>)             │                             │                 │\n",
       "├──────────────────────────────────────┼─────────────────────────────┼─────────────────┤\n",
       "│ dense_2 (<span style=\"color: #0087ff; text-decoration-color: #0087ff\">Dense</span>)                      │ ?                           │     <span style=\"color: #00af00; text-decoration-color: #00af00\">0</span> (unbuilt) │\n",
       "├──────────────────────────────────────┼─────────────────────────────┼─────────────────┤\n",
       "│ dense_3 (<span style=\"color: #0087ff; text-decoration-color: #0087ff\">Dense</span>)                      │ ?                           │     <span style=\"color: #00af00; text-decoration-color: #00af00\">0</span> (unbuilt) │\n",
       "└──────────────────────────────────────┴─────────────────────────────┴─────────────────┘\n",
       "</pre>\n"
      ],
      "text/plain": [
       "┏━━━━━━━━━━━━━━━━━━━━━━━━━━━━━━━━━━━━━━┳━━━━━━━━━━━━━━━━━━━━━━━━━━━━━┳━━━━━━━━━━━━━━━━━┓\n",
       "┃\u001b[1m \u001b[0m\u001b[1mLayer (type)                        \u001b[0m\u001b[1m \u001b[0m┃\u001b[1m \u001b[0m\u001b[1mOutput Shape               \u001b[0m\u001b[1m \u001b[0m┃\u001b[1m \u001b[0m\u001b[1m        Param #\u001b[0m\u001b[1m \u001b[0m┃\n",
       "┡━━━━━━━━━━━━━━━━━━━━━━━━━━━━━━━━━━━━━━╇━━━━━━━━━━━━━━━━━━━━━━━━━━━━━╇━━━━━━━━━━━━━━━━━┩\n",
       "│ embedding_1 (\u001b[38;5;33mEmbedding\u001b[0m)              │ ?                           │     \u001b[38;5;34m0\u001b[0m (unbuilt) │\n",
       "├──────────────────────────────────────┼─────────────────────────────┼─────────────────┤\n",
       "│ bidirectional_1 (\u001b[38;5;33mBidirectional\u001b[0m)      │ ?                           │     \u001b[38;5;34m0\u001b[0m (unbuilt) │\n",
       "├──────────────────────────────────────┼─────────────────────────────┼─────────────────┤\n",
       "│ global_average_pooling1d_1           │ ?                           │     \u001b[38;5;34m0\u001b[0m (unbuilt) │\n",
       "│ (\u001b[38;5;33mGlobalAveragePooling1D\u001b[0m)             │                             │                 │\n",
       "├──────────────────────────────────────┼─────────────────────────────┼─────────────────┤\n",
       "│ dense_2 (\u001b[38;5;33mDense\u001b[0m)                      │ ?                           │     \u001b[38;5;34m0\u001b[0m (unbuilt) │\n",
       "├──────────────────────────────────────┼─────────────────────────────┼─────────────────┤\n",
       "│ dense_3 (\u001b[38;5;33mDense\u001b[0m)                      │ ?                           │     \u001b[38;5;34m0\u001b[0m (unbuilt) │\n",
       "└──────────────────────────────────────┴─────────────────────────────┴─────────────────┘\n"
      ]
     },
     "metadata": {},
     "output_type": "display_data"
    },
    {
     "data": {
      "text/html": [
       "<pre style=\"white-space:pre;overflow-x:auto;line-height:normal;font-family:Menlo,'DejaVu Sans Mono',consolas,'Courier New',monospace\"><span style=\"font-weight: bold\"> Total params: </span><span style=\"color: #00af00; text-decoration-color: #00af00\">0</span> (0.00 B)\n",
       "</pre>\n"
      ],
      "text/plain": [
       "\u001b[1m Total params: \u001b[0m\u001b[38;5;34m0\u001b[0m (0.00 B)\n"
      ]
     },
     "metadata": {},
     "output_type": "display_data"
    },
    {
     "data": {
      "text/html": [
       "<pre style=\"white-space:pre;overflow-x:auto;line-height:normal;font-family:Menlo,'DejaVu Sans Mono',consolas,'Courier New',monospace\"><span style=\"font-weight: bold\"> Trainable params: </span><span style=\"color: #00af00; text-decoration-color: #00af00\">0</span> (0.00 B)\n",
       "</pre>\n"
      ],
      "text/plain": [
       "\u001b[1m Trainable params: \u001b[0m\u001b[38;5;34m0\u001b[0m (0.00 B)\n"
      ]
     },
     "metadata": {},
     "output_type": "display_data"
    },
    {
     "data": {
      "text/html": [
       "<pre style=\"white-space:pre;overflow-x:auto;line-height:normal;font-family:Menlo,'DejaVu Sans Mono',consolas,'Courier New',monospace\"><span style=\"font-weight: bold\"> Non-trainable params: </span><span style=\"color: #00af00; text-decoration-color: #00af00\">0</span> (0.00 B)\n",
       "</pre>\n"
      ],
      "text/plain": [
       "\u001b[1m Non-trainable params: \u001b[0m\u001b[38;5;34m0\u001b[0m (0.00 B)\n"
      ]
     },
     "metadata": {},
     "output_type": "display_data"
    }
   ],
   "source": [
    "model = tf.keras.Sequential([\n",
    "    Embedding(input_dim=5000, output_dim=64, input_length=500),\n",
    "    Bidirectional(LSTM(64, return_sequences=True)),\n",
    "    GlobalAveragePooling1D(),\n",
    "    Dense(64, activation='relu'),\n",
    "    Dense(1, activation='sigmoid')  # Sigmoid for binary classification\n",
    "])\n",
    "\n",
    "model.compile(loss='binary_crossentropy', optimizer='adam', metrics=['accuracy'])\n",
    "model.summary()\n"
   ]
  },
  {
   "cell_type": "code",
   "execution_count": 15,
   "metadata": {
    "execution": {
     "iopub.execute_input": "2025-03-28T04:53:12.293631Z",
     "iopub.status.busy": "2025-03-28T04:53:12.293337Z",
     "iopub.status.idle": "2025-03-28T04:57:47.686556Z",
     "shell.execute_reply": "2025-03-28T04:57:47.685840Z",
     "shell.execute_reply.started": "2025-03-28T04:53:12.293609Z"
    }
   },
   "outputs": [
    {
     "name": "stdout",
     "output_type": "stream",
     "text": [
      "Epoch 1/5\n",
      "\u001b[1m1123/1123\u001b[0m \u001b[32m━━━━━━━━━━━━━━━━━━━━\u001b[0m\u001b[37m\u001b[0m \u001b[1m59s\u001b[0m 48ms/step - accuracy: 0.8781 - loss: 0.2624 - val_accuracy: 0.9901 - val_loss: 0.0488\n",
      "Epoch 2/5\n",
      "\u001b[1m1123/1123\u001b[0m \u001b[32m━━━━━━━━━━━━━━━━━━━━\u001b[0m\u001b[37m\u001b[0m \u001b[1m54s\u001b[0m 48ms/step - accuracy: 0.9923 - loss: 0.0314 - val_accuracy: 0.9933 - val_loss: 0.0273\n",
      "Epoch 3/5\n",
      "\u001b[1m1123/1123\u001b[0m \u001b[32m━━━━━━━━━━━━━━━━━━━━\u001b[0m\u001b[37m\u001b[0m \u001b[1m54s\u001b[0m 48ms/step - accuracy: 0.9949 - loss: 0.0162 - val_accuracy: 0.9923 - val_loss: 0.0259\n",
      "Epoch 4/5\n",
      "\u001b[1m1123/1123\u001b[0m \u001b[32m━━━━━━━━━━━━━━━━━━━━\u001b[0m\u001b[37m\u001b[0m \u001b[1m54s\u001b[0m 48ms/step - accuracy: 0.9979 - loss: 0.0091 - val_accuracy: 0.9955 - val_loss: 0.0171\n",
      "Epoch 5/5\n",
      "\u001b[1m1123/1123\u001b[0m \u001b[32m━━━━━━━━━━━━━━━━━━━━\u001b[0m\u001b[37m\u001b[0m \u001b[1m54s\u001b[0m 48ms/step - accuracy: 0.9992 - loss: 0.0032 - val_accuracy: 0.9969 - val_loss: 0.0153\n"
     ]
    }
   ],
   "source": [
    "history = model.fit(X_train, y_train, epochs=5, batch_size=32, validation_data=(X_test, y_test))"
   ]
  },
  {
   "cell_type": "code",
   "execution_count": 16,
   "metadata": {
    "execution": {
     "iopub.execute_input": "2025-03-28T05:01:14.820412Z",
     "iopub.status.busy": "2025-03-28T05:01:14.819930Z",
     "iopub.status.idle": "2025-03-28T05:01:20.184204Z",
     "shell.execute_reply": "2025-03-28T05:01:20.183271Z",
     "shell.execute_reply.started": "2025-03-28T05:01:14.820375Z"
    }
   },
   "outputs": [
    {
     "name": "stdout",
     "output_type": "stream",
     "text": [
      "\u001b[1m281/281\u001b[0m \u001b[32m━━━━━━━━━━━━━━━━━━━━\u001b[0m\u001b[37m\u001b[0m \u001b[1m5s\u001b[0m 19ms/step - accuracy: 0.9967 - loss: 0.0195\n",
      "Test accuracy: 1.00\n"
     ]
    }
   ],
   "source": [
    "loss, accuracy = model.evaluate(X_test, y_test)\n",
    "print(f\"Test accuracy: {accuracy:.2f}\")"
   ]
  },
  {
   "cell_type": "code",
   "execution_count": 17,
   "metadata": {
    "execution": {
     "iopub.execute_input": "2025-03-28T05:02:45.796485Z",
     "iopub.status.busy": "2025-03-28T05:02:45.796091Z",
     "iopub.status.idle": "2025-03-28T05:02:45.850448Z",
     "shell.execute_reply": "2025-03-28T05:02:45.849530Z",
     "shell.execute_reply.started": "2025-03-28T05:02:45.796446Z"
    }
   },
   "outputs": [],
   "source": [
    "model.save('fake_news_detector.h5')"
   ]
  },
  {
   "cell_type": "markdown",
   "metadata": {},
   "source": [
    "## Model testing"
   ]
  },
  {
   "cell_type": "code",
   "execution_count": 21,
   "metadata": {
    "execution": {
     "iopub.execute_input": "2025-03-28T05:07:29.945259Z",
     "iopub.status.busy": "2025-03-28T05:07:29.944941Z",
     "iopub.status.idle": "2025-03-28T05:07:30.016437Z",
     "shell.execute_reply": "2025-03-28T05:07:30.015730Z",
     "shell.execute_reply.started": "2025-03-28T05:07:29.945237Z"
    }
   },
   "outputs": [
    {
     "name": "stdout",
     "output_type": "stream",
     "text": [
      "\u001b[1m1/1\u001b[0m \u001b[32m━━━━━━━━━━━━━━━━━━━━\u001b[0m\u001b[37m\u001b[0m \u001b[1m0s\u001b[0m 26ms/step\n",
      "Prediction: Real\n"
     ]
    }
   ],
   "source": [
    "def predict_news(text):\n",
    "    cleaned_text = clean_text(text)\n",
    "    sequence = tokenizer.texts_to_sequences([cleaned_text])\n",
    "    padded_sequence = pad_sequences(sequence, maxlen=500)\n",
    "    prediction = model.predict(padded_sequence)[0][0]\n",
    "    return \"Real\" if prediction > 0.5 else \"Fake\"\n",
    "\n",
    "# example\n",
    "news = \"March 27 (Reuters) - ​The U.S. Space Force's Space Systems Command said on Thursday it had awarded contracts to Rocket Lab USA (RKLB.O), opens new tab and Stoke Space to expand its portfolio of launch systems for critical space capability. Shares of Rocket Lab USA rose 9.7% in extended trading after the announcement. The contract enables the company to compete for future U.S. national security launch missions.\"\n",
    "result = predict_news(news)\n",
    "print(f\"Prediction: {result}\")"
   ]
  },
  {
   "cell_type": "markdown",
   "metadata": {},
   "source": [
    "## Analyzing misclassified examples"
   ]
  },
  {
   "cell_type": "code",
   "execution_count": 22,
   "metadata": {
    "execution": {
     "iopub.execute_input": "2025-03-28T05:09:20.921613Z",
     "iopub.status.busy": "2025-03-28T05:09:20.921255Z",
     "iopub.status.idle": "2025-03-28T05:09:25.759960Z",
     "shell.execute_reply": "2025-03-28T05:09:25.758974Z",
     "shell.execute_reply.started": "2025-03-28T05:09:20.921589Z"
    }
   },
   "outputs": [
    {
     "name": "stdout",
     "output_type": "stream",
     "text": [
      "\u001b[1m281/281\u001b[0m \u001b[32m━━━━━━━━━━━━━━━━━━━━\u001b[0m\u001b[37m\u001b[0m \u001b[1m5s\u001b[0m 16ms/step\n"
     ]
    }
   ],
   "source": [
    "predictions = model.predict(X_test).flatten()\n",
    "predicted_labels = (predictions > 0.5).astype(int)\n",
    "misclassified = X_test[predicted_labels !=y_test]"
   ]
  },
  {
   "cell_type": "markdown",
   "metadata": {},
   "source": [
    "## Visualizing the model performance"
   ]
  },
  {
   "cell_type": "code",
   "execution_count": 24,
   "metadata": {
    "execution": {
     "iopub.execute_input": "2025-03-28T05:11:22.416016Z",
     "iopub.status.busy": "2025-03-28T05:11:22.415436Z",
     "iopub.status.idle": "2025-03-28T05:11:22.743611Z",
     "shell.execute_reply": "2025-03-28T05:11:22.742768Z",
     "shell.execute_reply.started": "2025-03-28T05:11:22.415988Z"
    }
   },
   "outputs": [
    {
     "data": {
      "image/png": "[encoded data removed]",
      "text/plain": [
       "<Figure size 640x480 with 1 Axes>"
      ]
     },
     "metadata": {},
     "output_type": "display_data"
    }
   ],
   "source": [
    "plt.plot(history.history['accuracy'], label='Training accuracy')\n",
    "plt.plot(history.history['val_accuracy'], label='Validation Accuracy')\n",
    "plt.title('Training & validation accuracy')\n",
    "plt.legend()\n",
    "plt.show()"
   ]
  },
  {
   "cell_type": "code",
   "execution_count": 30,
   "metadata": {
    "execution": {
     "iopub.execute_input": "2025-03-28T05:32:01.535401Z",
     "iopub.status.busy": "2025-03-28T05:32:01.535056Z",
     "iopub.status.idle": "2025-03-28T05:32:07.064044Z",
     "shell.execute_reply": "2025-03-28T05:32:07.063092Z",
     "shell.execute_reply.started": "2025-03-28T05:32:01.535377Z"
    }
   },
   "outputs": [
    {
     "name": "stdout",
     "output_type": "stream",
     "text": [
      "\u001b[1m281/281\u001b[0m \u001b[32m━━━━━━━━━━━━━━━━━━━━\u001b[0m\u001b[37m\u001b[0m \u001b[1m5s\u001b[0m 18ms/step\n",
      "\n",
      "Classification Report:\n",
      "               precision    recall  f1-score   support\n",
      "\n",
      "        Fake       1.00      1.00      1.00      4650\n",
      "        Real       1.00      1.00      1.00      4330\n",
      "\n",
      "    accuracy                           1.00      8980\n",
      "   macro avg       1.00      1.00      1.00      8980\n",
      "weighted avg       1.00      1.00      1.00      8980\n",
      "\n"
     ]
    }
   ],
   "source": [
    "from sklearn.metrics import classification_report, confusion_matrix\n",
    "\n",
    "# Get model predictions\n",
    "y_pred = (model.predict(X_test) > 0.5).astype(\"int32\")\n",
    "\n",
    "# Generate classification report\n",
    "report = classification_report(y_test, y_pred, target_names=[\"Fake\", \"Real\"])\n",
    "print(\"\\nClassification Report:\\n\", report)\n"
   ]
  },
  {
   "cell_type": "code",
   "execution_count": 31,
   "metadata": {
    "execution": {
     "iopub.execute_input": "2025-03-28T05:32:18.367619Z",
     "iopub.status.busy": "2025-03-28T05:32:18.367285Z",
     "iopub.status.idle": "2025-03-28T05:32:18.814342Z",
     "shell.execute_reply": "2025-03-28T05:32:18.813278Z",
     "shell.execute_reply.started": "2025-03-28T05:32:18.367594Z"
    }
   },
   "outputs": [
    {
     "data": {
      "image/png": "[encoded data removed]",
      "text/plain": [
       "<Figure size 640x480 with 1 Axes>"
      ]
     },
     "metadata": {},
     "output_type": "display_data"
    },
    {
     "data": {
      "image/png": "[encoded data removed]",
      "text/plain": [
       "<Figure size 640x480 with 1 Axes>"
      ]
     },
     "metadata": {},
     "output_type": "display_data"
    }
   ],
   "source": [
    "import matplotlib.pyplot as plt\n",
    "\n",
    "# Plot accuracy\n",
    "plt.plot(history.history['accuracy'], label='Training Accuracy')\n",
    "plt.plot(history.history['val_accuracy'], label='Validation Accuracy')\n",
    "plt.title('Model Accuracy')\n",
    "plt.xlabel('Epochs')\n",
    "plt.ylabel('Accuracy')\n",
    "plt.legend()\n",
    "plt.show()\n",
    "\n",
    "# Plot loss\n",
    "plt.plot(history.history['loss'], label='Training Loss')\n",
    "plt.plot(history.history['val_loss'], label='Validation Loss')\n",
    "plt.title('Model Loss')\n",
    "plt.xlabel('Epochs')\n",
    "plt.ylabel('Loss')\n",
    "plt.legend()\n",
    "plt.show()\n"
   ]
  },
  {
   "cell_type": "code",
   "execution_count": 32,
   "metadata": {
    "execution": {
     "iopub.execute_input": "2025-03-28T05:32:27.067750Z",
     "iopub.status.busy": "2025-03-28T05:32:27.067451Z",
     "iopub.status.idle": "2025-03-28T05:32:27.233487Z",
     "shell.execute_reply": "2025-03-28T05:32:27.232508Z",
     "shell.execute_reply.started": "2025-03-28T05:32:27.067728Z"
    }
   },
   "outputs": [
    {
     "data": {
      "image/png": "[encoded data removed]",
      "text/plain": [
       "<Figure size 600x400 with 2 Axes>"
      ]
     },
     "metadata": {},
     "output_type": "display_data"
    }
   ],
   "source": [
    "import seaborn as sns\n",
    "\n",
    "cm = confusion_matrix(y_test, y_pred)\n",
    "\n",
    "plt.figure(figsize=(6, 4))\n",
    "sns.heatmap(cm, annot=True, cmap=\"Blues\", fmt='d', xticklabels=[\"Fake\", \"Real\"], yticklabels=[\"Fake\", \"Real\"])\n",
    "plt.ylabel('True Label')\n",
    "plt.xlabel('Predicted Label')\n",
    "plt.title('Confusion Matrix')\n",
    "plt.show()\n"
   ]
  }
 ],
 "metadata": {
  "kaggle": {
   "accelerator": "gpu",
   "dataSources": [
    {
     "datasetId": 6756995,
     "sourceId": 10875029,
     "sourceType": "datasetVersion"
    }
   ],
   "dockerImageVersionId": 30919,
   "isGpuEnabled": true,
   "isInternetEnabled": true,
   "language": "python",
   "sourceType": "notebook"
  },
  "kernelspec": {
   "display_name": "Python 3",
   "language": "python",
   "name": "python3"
  },
  "language_info": {
   "codemirror_mode": {
    "name": "ipython",
    "version": 3
   },
   "file_extension": ".py",
   "mimetype": "text/x-python",
   "name": "python",
   "nbconvert_exporter": "python",
   "pygments_lexer": "ipython3",
   "version": "3.10.12"
  }
 },
 "nbformat": 4,
 "nbformat_minor": 4
}
